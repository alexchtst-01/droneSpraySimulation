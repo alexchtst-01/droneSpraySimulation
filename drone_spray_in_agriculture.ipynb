{
  "nbformat": 4,
  "nbformat_minor": 0,
  "metadata": {
    "colab": {
      "provenance": [],
      "authorship_tag": "ABX9TyOziXfjgyZDEZvUY19Pg2mv",
      "include_colab_link": true
    },
    "kernelspec": {
      "name": "python3",
      "display_name": "Python 3"
    },
    "language_info": {
      "name": "python"
    }
  },
  "cells": [
    {
      "cell_type": "markdown",
      "metadata": {
        "id": "view-in-github",
        "colab_type": "text"
      },
      "source": [
        "<a href=\"https://colab.research.google.com/github/alexchtst-01/droneSpraySimulation/blob/main/drone_spray_in_agriculture.ipynb\" target=\"_parent\"><img src=\"https://colab.research.google.com/assets/colab-badge.svg\" alt=\"Open In Colab\"/></a>"
      ]
    },
    {
      "cell_type": "code",
      "execution_count": 1,
      "metadata": {
        "id": "hQLA-QWODtaf"
      },
      "outputs": [],
      "source": [
        "import numpy as np\n",
        "import matplotlib.pyplot as plt\n",
        "from matplotlib.animation import FuncAnimation\n",
        "import random"
      ]
    },
    {
      "cell_type": "code",
      "source": [
        "def plane(arr, xpos, ypos, size=25):\n",
        "    s = size // 2\n",
        "    temp = arr.copy()\n",
        "    # badan pesawat\n",
        "    temp[ypos-s:ypos+s-2, xpos-int(s*0.2):xpos+int(s*0.2)] = 1\n",
        "    # sayap pesawat\n",
        "    temp[ypos-3:ypos-1, xpos-s:xpos+s] = 1\n",
        "    temp[ypos-2:ypos, xpos-s-1:xpos+s+1] = 1\n",
        "    temp[ypos-1:ypos+1, xpos-s-1:xpos+s+1] = 1\n",
        "    # ekor pesawat\n",
        "    temp[ypos+s-2:ypos+s-1, xpos-s//3:xpos+s//3] = 1\n",
        "    temp[ypos+s-1:ypos+s, xpos-s//2:xpos+s//2] = 1\n",
        "\n",
        "    return temp"
      ],
      "metadata": {
        "id": "PedFlbcrEUoC"
      },
      "execution_count": 4,
      "outputs": []
    },
    {
      "cell_type": "code",
      "source": [
        "def simulateFrames(frameStore, vmin, vmax):\n",
        "    fig, ax = plt.subplots()\n",
        "\n",
        "    def update(frame_number):\n",
        "        im.set_array(frameStore[frame_number])\n",
        "        return [im]\n",
        "\n",
        "    initial_frame = frameStore[0]\n",
        "    im = ax.imshow(initial_frame, vmin=vmin, vmax=vmax)\n",
        "    ani = FuncAnimation(fig, update, frames=len(frameStore), interval=100, blit=True)\n",
        "\n",
        "    plt.axis('off')\n",
        "    plt.show()"
      ],
      "metadata": {
        "id": "O5QUeiSiEDl3"
      },
      "execution_count": 3,
      "outputs": []
    }
  ]
}